{
 "cells": [
  {
   "cell_type": "markdown",
   "metadata": {},
   "source": [
    "# Task2 - Bangla Handwritten Digit Recognition"
   ]
  },
  {
   "cell_type": "markdown",
   "metadata": {},
   "source": [
    "### Importing necessary packages like CNTK, numpy etc"
   ]
  },
  {
   "cell_type": "code",
   "execution_count": 47,
   "metadata": {},
   "outputs": [],
   "source": [
    "import os\n",
    "from keras.models import model_from_json\n",
    "from keras.models import Sequential\n",
    "from keras.layers import Dense\n",
    "from keras.layers import Dropout\n",
    "from keras.layers import Activation\n",
    "from keras.layers import Flatten\n",
    "from keras.layers import Conv2D\n",
    "from keras.layers import MaxPooling2D\n",
    "import numpy as np"
   ]
  },
  {
   "cell_type": "markdown",
   "metadata": {},
   "source": [
    "### Load Data from local directory"
   ]
  },
  {
   "cell_type": "code",
   "execution_count": 2,
   "metadata": {},
   "outputs": [],
   "source": [
    "def get_data(filename, num_samples, local_data_dir):\n",
    "        # Read data.\n",
    "        f=open(filename, \"r\")\n",
    "        res = np.fromstring(f.read(num_samples * 28 * 28), dtype = np.uint8)\n",
    "        return res.reshape((num_samples, 28 * 28))\n",
    "\n",
    "def get_labels(filename, num_samples, local_data_dir):\n",
    "        # Read labels.\n",
    "        f=open(filename, \"r\")\n",
    "        res = np.fromstring(f.read(num_samples), dtype = np.uint8)\n",
    "        return res.reshape((num_samples, 1))"
   ]
  },
  {
   "cell_type": "code",
   "execution_count": 3,
   "metadata": {},
   "outputs": [],
   "source": [
    "def load_data(data_filename, labels_filename, number_samples, local_data_dir=None):\n",
    "    data = get_data(data_filename, number_samples, local_data_dir)\n",
    "    labels = get_labels(labels_filename, number_samples, local_data_dir)\n",
    "    return np.hstack((data, labels))"
   ]
  },
  {
   "cell_type": "markdown",
   "metadata": {},
   "source": [
    "### Save the data files into a format compatible with CNTK text reader"
   ]
  },
  {
   "cell_type": "code",
   "execution_count": 4,
   "metadata": {},
   "outputs": [],
   "source": [
    "def save_as_txt(filename, ndarray):\n",
    "    dir = os.path.dirname(filename)\n",
    "\n",
    "    if not os.path.exists(dir):\n",
    "        os.makedirs(dir)\n",
    "\n",
    "    if not os.path.isfile(filename):\n",
    "        print(\"Saving to \", filename, \" \")\n",
    "        with open(filename, 'w') as f:\n",
    "            labels = list(map(' '.join, np.eye(10, dtype=np.uint).astype(str)))\n",
    "            for row in ndarray:\n",
    "                row_str = row.astype(str)\n",
    "                label_str = labels[row[-1]]\n",
    "                feature_str = ' '.join(row_str[:-1])\n",
    "                f.write('|labels {} |features {}\\n'.format(label_str, feature_str))\n",
    "    else:\n",
    "        print(\"File already exists\", filename)"
   ]
  },
  {
   "cell_type": "markdown",
   "metadata": {},
   "source": [
    "### Retrieve and process the training and testing data"
   ]
  },
  {
   "cell_type": "code",
   "execution_count": 5,
   "metadata": {},
   "outputs": [],
   "source": [
    "# Ensure we always get the same amount of randomness\n",
    "np.random.seed(0)\n",
    "\n",
    "# Define the data dimensions\n",
    "image_shape = (1, 28, 28)\n",
    "input_dim = int(np.prod(image_shape, dtype=int))\n",
    "output_dim = 10\n",
    "\n",
    "num_train_samples = 23824\n",
    "num_test_samples = 2653\n",
    "X_train = np.loadtxt(\"train_images.txt\")\n",
    "y_train = np.loadtxt(\"train_labels.txt\")\n",
    "X_test = np.loadtxt(\"test_images.txt\")\n",
    "y_test = np.loadtxt(\"test_labels.txt\")\n",
    "# The local path where the training and test data might be found or will be downloaded to.\n",
    "training_data_path = os.path.join(os.getcwd(), \"bangla_digit_dataset\", \"Train.txt\")\n",
    "testing_data_path = os.path.join(os.getcwd(), \"bangla_digit_dataset\", \"Test.txt\")"
   ]
  },
  {
   "cell_type": "markdown",
   "metadata": {},
   "source": [
    "### Data Testing"
   ]
  },
  {
   "cell_type": "code",
   "execution_count": 6,
   "metadata": {},
   "outputs": [
    {
     "name": "stdout",
     "output_type": "stream",
     "text": [
      "(23824,)\n",
      "(23824, 784)\n"
     ]
    }
   ],
   "source": [
    "feature_stream_name = 'features'\n",
    "labels_stream_name = 'labels'\n",
    "print(y_train.shape)    # Only labels\n",
    "print(X_train.shape)    # Data"
   ]
  },
  {
   "cell_type": "code",
   "execution_count": 8,
   "metadata": {},
   "outputs": [],
   "source": [
    "from keras.utils import np_utils"
   ]
  },
  {
   "cell_type": "code",
   "execution_count": 9,
   "metadata": {},
   "outputs": [],
   "source": [
    "# We have (n, width, height) but we need (n, depth, width, height)\n",
    "# where n is the number of entries\n",
    "X_train = X_train.reshape(X_train.shape[0], 28, 28, 1)\n",
    "X_test = X_test.reshape(X_test.shape[0], 28, 28, 1)\n",
    "\n",
    "X_train = X_train.astype('float32')\n",
    "X_test = X_test.astype('float32')\n",
    "# Normalize so that value is between 0 and 1\n",
    "X_train /= 255\n",
    "X_test /= 255\n",
    "\n",
    "#Categorize the labels\n",
    "Y_train = np_utils.to_categorical(y_train, 10)\n",
    "Y_test = np_utils.to_categorical(y_test, 10)"
   ]
  },
  {
   "cell_type": "markdown",
   "metadata": {},
   "source": [
    "## Constructing the Convolutional Neural Network\n",
    "### ConvNet architectures:\n",
    "####  1 Convolutional Layer\n",
    "####   2 Pooling Layer\n",
    "####   3 Fully-Connected Layer(Dense)"
   ]
  },
  {
   "cell_type": "code",
   "execution_count": 13,
   "metadata": {},
   "outputs": [],
   "source": [
    "# Now we will define out NN\n",
    "model = Sequential() # First layer initiated\n"
   ]
  },
  {
   "cell_type": "markdown",
   "metadata": {},
   "source": [
    "### Convultional Layer ###"
   ]
  },
  {
   "cell_type": "code",
   "execution_count": 14,
   "metadata": {},
   "outputs": [],
   "source": [
    "# 32 Convultion filters\n",
    "# (3 rows and 3 cols for each convultion filter)\n",
    "# Relu activation: will return = if value is below 0 and raw input if above\n",
    "# An input with 1 depth (channels), 28 widht and 28 height\n",
    "model.add(Conv2D(32, (3, 3), activation='relu', input_shape=(28,28,1)))\n",
    "model.add(Conv2D(32, (3, 3), activation='relu'))   # Add another layer"
   ]
  },
  {
   "cell_type": "markdown",
   "metadata": {},
   "source": [
    "### Pooling Layer ###"
   ]
  },
  {
   "cell_type": "code",
   "execution_count": 15,
   "metadata": {},
   "outputs": [],
   "source": [
    "# To reduce the parameters, it will take the maximum of the 4 values (2x2)\n",
    "model.add(MaxPooling2D(pool_size=(2,2)))\n",
    "model.add(Dropout(0.25))  # To avoid overfitting"
   ]
  },
  {
   "cell_type": "markdown",
   "metadata": {},
   "source": [
    "### Fully-Connected Layer (Dense)#######"
   ]
  },
  {
   "cell_type": "code",
   "execution_count": 16,
   "metadata": {},
   "outputs": [],
   "source": [
    "####### Fully-Connected Layer #######\n",
    "# The weights from the Convolution layers must be flattened (made 1-dimensional)\n",
    "# before passing them to the fully connected Dense layer.\n",
    "model.add(Flatten())\n",
    "model.add(Dense(128, activation='relu'))    # output of 120\n",
    "model.add(Dropout(0.5))\n",
    "# Softmax allow us to convert inputs to values between 0 and 1. The sum of them will be 1\n",
    "model.add(Dense(10, activation='softmax'))  # output of 10 (final layer!!!)"
   ]
  },
  {
   "cell_type": "markdown",
   "metadata": {},
   "source": [
    "## Compile the model\n"
   ]
  },
  {
   "cell_type": "code",
   "execution_count": 17,
   "metadata": {},
   "outputs": [],
   "source": [
    "model.compile(loss='categorical_crossentropy', optimizer='adam', metrics=['accuracy'])"
   ]
  },
  {
   "cell_type": "markdown",
   "metadata": {},
   "source": [
    "## Train the model"
   ]
  },
  {
   "cell_type": "code",
   "execution_count": 18,
   "metadata": {},
   "outputs": [
    {
     "name": "stdout",
     "output_type": "stream",
     "text": [
      "Epoch 1/5\n",
      "23824/23824 [==============================] - 37s 2ms/step - loss: 1.6851 - acc: 0.3984\n",
      "Epoch 2/5\n",
      "23824/23824 [==============================] - 35s 1ms/step - loss: 0.4563 - acc: 0.8530\n",
      "Epoch 3/5\n",
      "23824/23824 [==============================] - 35s 1ms/step - loss: 0.3509 - acc: 0.8873\n",
      "Epoch 4/5\n",
      "23824/23824 [==============================] - 35s 1ms/step - loss: 0.3062 - acc: 0.9030\n",
      "Epoch 5/5\n",
      "23824/23824 [==============================] - 35s 1ms/step - loss: 0.2808 - acc: 0.9105\n"
     ]
    },
    {
     "data": {
      "text/plain": [
       "<keras.callbacks.History at 0x7f0eaa7eb6d0>"
      ]
     },
     "execution_count": 18,
     "metadata": {},
     "output_type": "execute_result"
    }
   ],
   "source": [
    "# batch_size: Fom training dataset how many entries use each time\n",
    "# nb_epoch: Neural networks are trained iteratively,\n",
    "#   making multiple passes over entire dataset.\n",
    "#   Each pass over entire dataset is referred to as epoch.\n",
    "model.fit(X_train, Y_train, batch_size=64, epochs=5, verbose=1)"
   ]
  },
  {
   "cell_type": "markdown",
   "metadata": {},
   "source": [
    "## Visualization"
   ]
  },
  {
   "cell_type": "code",
   "execution_count": 19,
   "metadata": {},
   "outputs": [],
   "source": [
    "import pandas as pd\n",
    "import seaborn as sns\n",
    "import matplotlib.pyplot as plt\n",
    "from sklearn.metrics import confusion_matrix"
   ]
  },
  {
   "cell_type": "code",
   "execution_count": 27,
   "metadata": {},
   "outputs": [
    {
     "name": "stdout",
     "output_type": "stream",
     "text": [
      "[[257   0   0   1   0   1   0   0   0   0]\n",
      " [  2 256   2   0   1   0   2   0   0  14]\n",
      " [  0   0 231   0   8   1   0   2   1   2]\n",
      " [  3   0   0 254   0   0   2   1   1   0]\n",
      " [  0   2   3   0 271   1   2   0   1   3]\n",
      " [  0   1   3   0   9 262   4   2   0   0]\n",
      " [  0   1   0  14   0   3 237   1   1   0]\n",
      " [  0   0   1   0   1   0   0 267   0   0]\n",
      " [  0   0   0   1   1   1   4   0 248   1]\n",
      " [  0  23   0   0   5   0   0   0   1 236]]\n"
     ]
    }
   ],
   "source": [
    "#confusion matrix \n",
    "\n",
    "y_pred = model.predict_classes(X_test) # This will take a few seconds...\n",
    "y_true = np_utils.to_categorical(y_test)\n",
    "\n",
    "target_names = [\"0\", \"1\", \"2\",\"3\",\"4\",\"5\",\"6\",\"7\",\"8\",\"9\"]\n",
    "\n",
    "# Compute a confusion matrix and a normalised confusion matrix\n",
    "cm = confusion_matrix(y_test, y_pred)\n",
    "cm_normalised = cm.astype('float') / cm.sum(axis=1)[:, np.newaxis]\n",
    "\n",
    "# These can also be used to produce heatmaps using Matplotlib or Seaborn.\n",
    "print(cm)"
   ]
  },
  {
   "cell_type": "code",
   "execution_count": 45,
   "metadata": {},
   "outputs": [
    {
     "data": {
      "text/plain": [
       "[Text(1039.6,0.5,u'True label'), Text(0.5,64,u'Predicted label')]"
      ]
     },
     "execution_count": 45,
     "metadata": {},
     "output_type": "execute_result"
    },
    {
     "data": {
      "image/png": "[encoded data removed]",
      "text/plain": [
       "<matplotlib.figure.Figure at 0x7f0e6c5c1250>"
      ]
     },
     "metadata": {},
     "output_type": "display_data"
    }
   ],
   "source": [
    "# Plot a confusion matrix graphically \n",
    "sns.set(font_scale=1.5) \n",
    "fig, ax = plt.subplots(figsize=(30,10))\n",
    "ax = sns.heatmap(cm, annot=True, linewidths=2.5, square=True, linecolor=\"Green\", \n",
    "                    cmap=\"Blues\", yticklabels=target_names, xticklabels=target_names, vmin=-10, vmax=300, \n",
    "                    fmt=\"d\", annot_kws={\"size\": 20})\n",
    "ax.set(xlabel='Predicted label', ylabel='True label')"
   ]
  },
  {
   "cell_type": "markdown",
   "metadata": {},
   "source": [
    "### Evaluation"
   ]
  },
  {
   "cell_type": "code",
   "execution_count": 46,
   "metadata": {},
   "outputs": [
    {
     "name": "stdout",
     "output_type": "stream",
     "text": [
      "Score: [0.175364231157878, 0.949491142350415]\n"
     ]
    }
   ],
   "source": [
    "score = model.evaluate(X_test, Y_test, verbose=0)\n",
    "print(\"Score: {}\".format(score))"
   ]
  },
  {
   "cell_type": "code",
   "execution_count": null,
   "metadata": {},
   "outputs": [],
   "source": [
    "# Save Model\n",
    "#   REF: https://machinelearningmastery.com/save-load-keras-deep-learning-models/\n",
    "#model.save_weights(\"model.weights\")\n",
    "#with open(\"model.json\", \"w\") as json_file:\n",
    "#    model_json = model.to_json()\n",
    "#    json_file.write(model_json)"
   ]
  },
  {
   "cell_type": "markdown",
   "metadata": {},
   "source": [
    "### Testing Phase"
   ]
  },
  {
   "cell_type": "markdown",
   "metadata": {},
   "source": [
    "#### to be continued...\n"
   ]
  }
 ],
 "metadata": {
  "kernelspec": {
   "display_name": "Python 2",
   "language": "python",
   "name": "python2"
  },
  "language_info": {
   "codemirror_mode": {
    "name": "ipython",
    "version": 2
   },
   "file_extension": ".py",
   "mimetype": "text/x-python",
   "name": "python",
   "nbconvert_exporter": "python",
   "pygments_lexer": "ipython2",
   "version": "2.7.14"
  }
 },
 "nbformat": 4,
 "nbformat_minor": 2
}
